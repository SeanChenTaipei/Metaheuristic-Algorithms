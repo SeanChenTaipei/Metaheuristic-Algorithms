{
 "cells": [
  {
   "cell_type": "code",
   "execution_count": 1,
   "id": "222b5804",
   "metadata": {},
   "outputs": [],
   "source": [
    "from selenium import webdriver\n",
    "from selenium.webdriver.support.ui import Select\n",
    "from selenium.common.exceptions import NoSuchElementException\n",
    "import pandas as pd\n",
    "import time\n",
    "import numpy as np"
   ]
  },
  {
   "cell_type": "code",
   "execution_count": 2,
   "id": "b4d9171f",
   "metadata": {},
   "outputs": [
    {
     "data": {
      "text/html": [
       "<style>\n",
       ".output {\n",
       "    flex-direction: row;\n",
       "}\n",
       "</style>"
      ],
      "text/plain": [
       "<IPython.core.display.HTML object>"
      ]
     },
     "execution_count": 2,
     "metadata": {},
     "output_type": "execute_result"
    }
   ],
   "source": [
    "from IPython.display import display, HTML\n",
    "\n",
    "CSS = \"\"\"\n",
    ".output {\n",
    "    flex-direction: row;\n",
    "}\n",
    "\"\"\"\n",
    "\n",
    "HTML('<style>{}</style>'.format(CSS))"
   ]
  },
  {
   "cell_type": "code",
   "execution_count": 3,
   "id": "081da788",
   "metadata": {},
   "outputs": [],
   "source": [
    "driver = webdriver.Chrome() \n",
    "driver.get(\"https://emap.pcsc.com.tw/emap.aspx#\")"
   ]
  },
  {
   "cell_type": "code",
   "execution_count": 4,
   "id": "fe3a8c8d",
   "metadata": {},
   "outputs": [
    {
     "name": "stdout",
     "output_type": "stream",
     "text": [
      "page : 2\n",
      "page : 3\n",
      "page : 4\n",
      "page : 5\n",
      "page : 6\n",
      "page : 7\n",
      "page : 8\n",
      "page : 9\n"
     ]
    }
   ],
   "source": [
    "taipei = driver.find_elements_by_css_selector(\"#maplink_taipei\")\n",
    "taipei[0].click()\n",
    "time.sleep(2)\n",
    "Nan = driver.find_element_by_css_selector(\"#town_南港區\")\n",
    "Nan.click()\n",
    "time.sleep(5)\n",
    "address = {}\n",
    "nextpage =  driver.find_element_by_css_selector(\"#Next\")\n",
    "for k in range(8):\n",
    "    print(f\"page : {k+2}\")\n",
    "    for i in range(2,7):\n",
    "        try:\n",
    "            key = driver.find_element_by_css_selector(\n",
    "                f\"#mytb > tbody > tr:nth-child({i}) > td:nth-child(1)\").text\n",
    "            content = driver.find_element_by_css_selector(\n",
    "                f\"#mytb > tbody > tr:nth-child({i}) > td:nth-child(2) > table > tbody > tr:nth-child(2) > td\")\n",
    "            content = content.text.split(\"\\n\")[0][3:]\n",
    "            address[key] = content\n",
    "        except:\n",
    "            break\n",
    "    try:\n",
    "        nextpage =  driver.find_element_by_css_selector(\"#Next\")\n",
    "        nextpage.click()\n",
    "        time.sleep(1)\n",
    "    except:\n",
    "        break"
   ]
  },
  {
   "cell_type": "code",
   "execution_count": 5,
   "id": "cecd77a0",
   "metadata": {},
   "outputs": [
    {
     "name": "stdout",
     "output_type": "stream",
     "text": [
      "True\n"
     ]
    }
   ],
   "source": [
    "print(len(address) == 36)"
   ]
  },
  {
   "cell_type": "code",
   "execution_count": 6,
   "id": "8479a16e",
   "metadata": {
    "scrolled": true
   },
   "outputs": [
    {
     "data": {
      "text/plain": [
       "['台北市南港區中坡南路47號1樓',\n",
       " '台北市南港區研究院路二段128號1樓',\n",
       " '台北市南港區經貿二路186號2樓',\n",
       " '台北市南港區西新里南港路三段3號1樓',\n",
       " '台北市南港區玉成街150號1樓',\n",
       " '台北市南港區向陽路166號1樓',\n",
       " '台北市南港區研究院路二段152號',\n",
       " '台北市南港區南港路一段303號305號307號1樓',\n",
       " '台北市南港區忠孝東路六段465號1樓',\n",
       " '台北市南港區忠孝東路六段448號',\n",
       " '台北市南港區東新街80巷1號',\n",
       " '台北市南港區研究院路二段14號',\n",
       " '台北市南港區研究院路二段94號96號98巷1號',\n",
       " '台北市南港區重陽路179號181號1樓',\n",
       " '台北市南港區南港路一段167號1樓',\n",
       " '台北市南港區八德路四段778號780號',\n",
       " '台北市南港區忠孝東路七段359號1樓',\n",
       " '台北市南港區南港路一段313號B2',\n",
       " '台北市南港區經貿二路1號',\n",
       " '台北市南港區經貿二路2號B1樓',\n",
       " '台北市南港區玉成街69號1樓',\n",
       " '台北市南港區福德街373巷25號',\n",
       " '台北市南港區興華路119號121號123號125號',\n",
       " '台北市南港區忠孝東路七段371號B2',\n",
       " '台北市南港區忠孝東路七段369號2樓',\n",
       " '台北市南港區研究院路三段72號74號1樓',\n",
       " '台北市南港區忠孝東路六段276號',\n",
       " '台北市南港區重陽路164號',\n",
       " '台北市南港區成福路145號147號',\n",
       " '台北市南港區三重路19號1樓',\n",
       " '台北市南港區聯成里昆陽街150-1號150-3號',\n",
       " '台北市南港區東新街118巷1號',\n",
       " '台北市南港區三重路23號1樓',\n",
       " '台北市南港區南港路三段49-1號',\n",
       " '台北市南港區研究院路一段99號1樓之14',\n",
       " '台北市南港區經貿二路168號4樓']"
      ]
     },
     "execution_count": 6,
     "metadata": {},
     "output_type": "execute_result"
    }
   ],
   "source": [
    "addr = list(address.values())\n",
    "addr[1] = addr[1][:-8]\n",
    "addr"
   ]
  },
  {
   "cell_type": "code",
   "execution_count": null,
   "id": "af54e0be",
   "metadata": {},
   "outputs": [],
   "source": [
    "googlemap = webdriver.Chrome() \n",
    "googlemap.get(\"https://www.google.com.tw/maps/dir///@24.9749457,121.5475514,13.1z/data=!4m2!4m1!3e0\")"
   ]
  },
  {
   "cell_type": "code",
   "execution_count": null,
   "id": "60562a7f",
   "metadata": {},
   "outputs": [],
   "source": [
    "start = googlemap.find_element_by_css_selector(\"#sb_ifc50 > input\")\n",
    "des = googlemap.find_element_by_css_selector(\"#sb_ifc51 > input\")\n",
    "start.clear()\n",
    "des.clear()"
   ]
  },
  {
   "cell_type": "code",
   "execution_count": null,
   "id": "fdc2a12b",
   "metadata": {},
   "outputs": [],
   "source": [
    "options = [\"#section-directions-trip-0 > div > div:nth-child(1) > div.xB1mrd-T3iPGc-iSfDt-n5AaSd > \\\n",
    "                            div.xB1mrd-T3iPGc-iSfDt-duration.delay-light > span:nth-child(1)\", \n",
    "           \"#section-directions-trip-0 > div > div:nth-child(1) > div.xB1mrd-T3iPGc-iSfDt-n5AaSd > \\\n",
    "                            div.xB1mrd-T3iPGc-iSfDt-duration.delay-medium > span:nth-child(1)\", \n",
    "           \"#section-directions-trip-0 > div > div:nth-child(1) > div.xB1mrd-T3iPGc-iSfDt-n5AaSd > \\\n",
    "                            div.xB1mrd-T3iPGc-iSfDt-duration > span:nth-child(1)\"]\n",
    "distance = \"#section-directions-trip-0 > div > div:nth-child(1) > div.xB1mrd-T3iPGc-iSfDt-n5AaSd > \\\n",
    "            div.xB1mrd-T3iPGc-iSfDt-tUvA6e.xB1mrd-T3iPGc-iSfDt-K4efff-text > div\""
   ]
  },
  {
   "cell_type": "code",
   "execution_count": null,
   "id": "a01f53eb",
   "metadata": {
    "scrolled": true
   },
   "outputs": [],
   "source": [
    "# dist = np.zeros([36, 36])\n",
    "n = len(addr)\n",
    "for i in range(9):\n",
    "    start.send_keys(addr[i])\n",
    "    print(f\"{i+1}/36\")\n",
    "    for j in range(i+1, n):\n",
    "        des.send_keys(addr[j])\n",
    "        search = googlemap.find_element_by_css_selector(\n",
    "            \"#directions-searchbox-1 > button.nhb85d-BIqFsb\")\n",
    "        search.click()\n",
    "        time.sleep(4)\n",
    "        trip = 0\n",
    "        count = 0\n",
    "#         while trip >= 0 and count < 3:\n",
    "#             try:\n",
    "#                 fast = float(googlemap.find_element_by_css_selector(options[count]).text[:-2])\n",
    "#                 trip-=1\n",
    "#                 dist[i, j] = fast\n",
    "#                 dist[j, i] = fast\n",
    "#             except:\n",
    "#                 count+=1\n",
    "        dis = googlemap.find_element_by_css_selector(distance).text\n",
    "        if dis[-2:] == \"公里\":\n",
    "            dis = float(dis[:-3])\n",
    "        else:\n",
    "            dis = float(dis[:-3])/1000\n",
    "        dist[i, j] = dis\n",
    "        dist[j, i] = dis\n",
    "        print(dis)\n",
    "        des.clear()\n",
    "    start.clear()"
   ]
  },
  {
   "cell_type": "code",
   "execution_count": null,
   "id": "62370347",
   "metadata": {},
   "outputs": [],
   "source": [
    "df = pd.DataFrame(dist, index = list(address.keys()), columns = list(address.keys()))"
   ]
  },
  {
   "cell_type": "code",
   "execution_count": null,
   "id": "bb5e5382",
   "metadata": {},
   "outputs": [],
   "source": [
    "start = googlemap.find_element_by_css_selector(\"#sb_ifc50 > input\")\n",
    "des = googlemap.find_element_by_css_selector(\"#sb_ifc51 > input\")\n",
    "start.clear()\n",
    "des.clear()"
   ]
  },
  {
   "cell_type": "code",
   "execution_count": null,
   "id": "8b9b6fa9",
   "metadata": {
    "scrolled": true
   },
   "outputs": [],
   "source": [
    "for i in range(36):\n",
    "    for j in range(i+1, 36):\n",
    "        if df.iloc[i, j] == 0:\n",
    "            start.clear()\n",
    "            des.clear()\n",
    "            start.send_keys(addr[i])\n",
    "            des.send_keys(addr[j])\n",
    "            search = googlemap.find_element_by_css_selector(\n",
    "                    \"#directions-searchbox-1 > button.nhb85d-BIqFsb\")\n",
    "            search.click()\n",
    "            time.sleep(3)\n",
    "            try:\n",
    "                fast = float(googlemap.find_element_by_css_selector(\n",
    "                                \"#section-directions-trip-0 > div > div:nth-child(1) > div.xB1mrd-T3iPGc-iSfDt-n5AaSd > \\\n",
    "                                div.xB1mrd-T3iPGc-iSfDt-duration.delay-light > span:nth-child(1)\").text[:-2])\n",
    "                df.iloc[i, j] = fast\n",
    "                df.iloc[j, i] = fast\n",
    "            except:\n",
    "                float(googlemap.find_element_by_css_selector(\n",
    "                                \"#section-directions-trip-0 > div > div:nth-child(1) > div.xB1mrd-T3iPGc-iSfDt-n5AaSd > \\\n",
    "                                div.xB1mrd-T3iPGc-iSfDt-duration > span:nth-child(1)\").text[:-2])\n",
    "                df.iloc[i, j] = fast\n",
    "                df.iloc[j, i] = fast"
   ]
  },
  {
   "cell_type": "code",
   "execution_count": null,
   "id": "4028f53b",
   "metadata": {},
   "outputs": [],
   "source": [
    "(df == 0).sum().sum() - 36"
   ]
  },
  {
   "cell_type": "code",
   "execution_count": null,
   "id": "434dcb17",
   "metadata": {
    "scrolled": true
   },
   "outputs": [],
   "source": [
    "df"
   ]
  },
  {
   "cell_type": "code",
   "execution_count": null,
   "id": "2488a381",
   "metadata": {},
   "outputs": [],
   "source": [
    "df.to_csv(\"distance.csv\", encoding = 'big5')"
   ]
  },
  {
   "cell_type": "code",
   "execution_count": 14,
   "id": "85e38a2e",
   "metadata": {},
   "outputs": [],
   "source": [
    "dd = pd.read_csv(\"distance.csv\", encoding = 'big5', index_col = 0)"
   ]
  },
  {
   "cell_type": "code",
   "execution_count": 17,
   "id": "debaf64d",
   "metadata": {},
   "outputs": [
    {
     "data": {
      "text/html": [
       "<div>\n",
       "<style scoped>\n",
       "    .dataframe tbody tr th:only-of-type {\n",
       "        vertical-align: middle;\n",
       "    }\n",
       "\n",
       "    .dataframe tbody tr th {\n",
       "        vertical-align: top;\n",
       "    }\n",
       "\n",
       "    .dataframe thead th {\n",
       "        text-align: right;\n",
       "    }\n",
       "</style>\n",
       "<table border=\"1\" class=\"dataframe\">\n",
       "  <thead>\n",
       "    <tr style=\"text-align: right;\">\n",
       "      <th></th>\n",
       "      <th>中坡</th>\n",
       "      <th>中研</th>\n",
       "      <th>中貿</th>\n",
       "      <th>玉成</th>\n",
       "      <th>玉德</th>\n",
       "      <th>向揚</th>\n",
       "      <th>庄研</th>\n",
       "      <th>佳樂</th>\n",
       "    </tr>\n",
       "  </thead>\n",
       "  <tbody>\n",
       "    <tr>\n",
       "      <th>中坡</th>\n",
       "      <td>0.00</td>\n",
       "      <td>5.4</td>\n",
       "      <td>5.9</td>\n",
       "      <td>2.20</td>\n",
       "      <td>0.45</td>\n",
       "      <td>2.40</td>\n",
       "      <td>5.6</td>\n",
       "      <td>3.4</td>\n",
       "    </tr>\n",
       "    <tr>\n",
       "      <th>中研</th>\n",
       "      <td>5.40</td>\n",
       "      <td>0.0</td>\n",
       "      <td>2.7</td>\n",
       "      <td>4.30</td>\n",
       "      <td>5.30</td>\n",
       "      <td>4.20</td>\n",
       "      <td>1.1</td>\n",
       "      <td>2.7</td>\n",
       "    </tr>\n",
       "    <tr>\n",
       "      <th>中貿</th>\n",
       "      <td>5.90</td>\n",
       "      <td>2.7</td>\n",
       "      <td>0.0</td>\n",
       "      <td>3.10</td>\n",
       "      <td>4.50</td>\n",
       "      <td>3.00</td>\n",
       "      <td>2.6</td>\n",
       "      <td>1.5</td>\n",
       "    </tr>\n",
       "    <tr>\n",
       "      <th>玉成</th>\n",
       "      <td>2.20</td>\n",
       "      <td>4.3</td>\n",
       "      <td>3.1</td>\n",
       "      <td>0.00</td>\n",
       "      <td>2.30</td>\n",
       "      <td>0.45</td>\n",
       "      <td>4.4</td>\n",
       "      <td>1.6</td>\n",
       "    </tr>\n",
       "    <tr>\n",
       "      <th>玉德</th>\n",
       "      <td>0.45</td>\n",
       "      <td>5.3</td>\n",
       "      <td>4.5</td>\n",
       "      <td>2.30</td>\n",
       "      <td>0.00</td>\n",
       "      <td>2.20</td>\n",
       "      <td>5.3</td>\n",
       "      <td>3.1</td>\n",
       "    </tr>\n",
       "    <tr>\n",
       "      <th>向揚</th>\n",
       "      <td>2.40</td>\n",
       "      <td>4.2</td>\n",
       "      <td>3.0</td>\n",
       "      <td>0.45</td>\n",
       "      <td>2.20</td>\n",
       "      <td>0.00</td>\n",
       "      <td>4.8</td>\n",
       "      <td>2.3</td>\n",
       "    </tr>\n",
       "    <tr>\n",
       "      <th>庄研</th>\n",
       "      <td>5.60</td>\n",
       "      <td>1.1</td>\n",
       "      <td>2.6</td>\n",
       "      <td>4.40</td>\n",
       "      <td>5.30</td>\n",
       "      <td>4.80</td>\n",
       "      <td>0.0</td>\n",
       "      <td>2.9</td>\n",
       "    </tr>\n",
       "    <tr>\n",
       "      <th>佳樂</th>\n",
       "      <td>3.40</td>\n",
       "      <td>2.7</td>\n",
       "      <td>1.5</td>\n",
       "      <td>1.60</td>\n",
       "      <td>3.10</td>\n",
       "      <td>2.30</td>\n",
       "      <td>2.9</td>\n",
       "      <td>0.0</td>\n",
       "    </tr>\n",
       "  </tbody>\n",
       "</table>\n",
       "</div>"
      ],
      "text/plain": [
       "      中坡   中研   中貿    玉成    玉德    向揚   庄研   佳樂\n",
       "中坡  0.00  5.4  5.9  2.20  0.45  2.40  5.6  3.4\n",
       "中研  5.40  0.0  2.7  4.30  5.30  4.20  1.1  2.7\n",
       "中貿  5.90  2.7  0.0  3.10  4.50  3.00  2.6  1.5\n",
       "玉成  2.20  4.3  3.1  0.00  2.30  0.45  4.4  1.6\n",
       "玉德  0.45  5.3  4.5  2.30  0.00  2.20  5.3  3.1\n",
       "向揚  2.40  4.2  3.0  0.45  2.20  0.00  4.8  2.3\n",
       "庄研  5.60  1.1  2.6  4.40  5.30  4.80  0.0  2.9\n",
       "佳樂  3.40  2.7  1.5  1.60  3.10  2.30  2.9  0.0"
      ]
     },
     "execution_count": 17,
     "metadata": {},
     "output_type": "execute_result"
    }
   ],
   "source": [
    "dd.iloc[:8, :8]"
   ]
  },
  {
   "cell_type": "code",
   "execution_count": null,
   "id": "fc4ce01d",
   "metadata": {},
   "outputs": [],
   "source": []
  }
 ],
 "metadata": {
  "kernelspec": {
   "display_name": "Python3.7.9",
   "language": "python",
   "name": "python3"
  },
  "language_info": {
   "codemirror_mode": {
    "name": "ipython",
    "version": 3
   },
   "file_extension": ".py",
   "mimetype": "text/x-python",
   "name": "python",
   "nbconvert_exporter": "python",
   "pygments_lexer": "ipython3",
   "version": "3.7.9"
  }
 },
 "nbformat": 4,
 "nbformat_minor": 5
}
